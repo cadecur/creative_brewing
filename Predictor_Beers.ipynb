{
 "cells": [
  {
   "cell_type": "code",
   "execution_count": 200,
   "metadata": {},
   "outputs": [
    {
     "data": {
      "text/html": [
       "<div>\n",
       "<style scoped>\n",
       "    .dataframe tbody tr th:only-of-type {\n",
       "        vertical-align: middle;\n",
       "    }\n",
       "\n",
       "    .dataframe tbody tr th {\n",
       "        vertical-align: top;\n",
       "    }\n",
       "\n",
       "    .dataframe thead th {\n",
       "        text-align: right;\n",
       "    }\n",
       "</style>\n",
       "<table border=\"1\" class=\"dataframe\">\n",
       "  <thead>\n",
       "    <tr style=\"text-align: right;\">\n",
       "      <th></th>\n",
       "      <th>Beer</th>\n",
       "      <th>Brewery</th>\n",
       "      <th>Location</th>\n",
       "      <th>Table</th>\n",
       "      <th>Score</th>\n",
       "      <th>rAvg</th>\n",
       "      <th>Ratings</th>\n",
       "      <th>Bro Score</th>\n",
       "      <th>Style</th>\n",
       "      <th>ABV</th>\n",
       "      <th>URL</th>\n",
       "    </tr>\n",
       "  </thead>\n",
       "  <tbody>\n",
       "    <tr>\n",
       "      <th>0</th>\n",
       "      <td>Abita Select Mayhawk</td>\n",
       "      <td>Abita Brewing Co.</td>\n",
       "      <td>Abita Springs, LA</td>\n",
       "      <td>43.0</td>\n",
       "      <td>NaN</td>\n",
       "      <td>3.58</td>\n",
       "      <td>3</td>\n",
       "      <td>NaN</td>\n",
       "      <td>Belgian Pale Ale</td>\n",
       "      <td>6.50%</td>\n",
       "      <td>http://beeradvocate.com/beer/profile/3/93248</td>\n",
       "    </tr>\n",
       "    <tr>\n",
       "      <th>1</th>\n",
       "      <td>Amber</td>\n",
       "      <td>Abita Brewing Co.</td>\n",
       "      <td>Abita Springs, LA</td>\n",
       "      <td>43.0</td>\n",
       "      <td>78.0</td>\n",
       "      <td>3.44</td>\n",
       "      <td>880</td>\n",
       "      <td>90.0</td>\n",
       "      <td>Vienna Lager</td>\n",
       "      <td>4.50%</td>\n",
       "      <td>http://beeradvocate.com/beer/profile/3/5</td>\n",
       "    </tr>\n",
       "    <tr>\n",
       "      <th>2</th>\n",
       "      <td>Lemon Wheat</td>\n",
       "      <td>Abita Brewing Co.</td>\n",
       "      <td>Abita Springs, LA</td>\n",
       "      <td>43.0</td>\n",
       "      <td>76.0</td>\n",
       "      <td>3.15</td>\n",
       "      <td>18</td>\n",
       "      <td>NaN</td>\n",
       "      <td>American Pale Wheat Ale</td>\n",
       "      <td>?</td>\n",
       "      <td>http://beeradvocate.com/beer/profile/3/92293</td>\n",
       "    </tr>\n",
       "    <tr>\n",
       "      <th>3</th>\n",
       "      <td>Purple Haze</td>\n",
       "      <td>Abita Brewing Co.</td>\n",
       "      <td>Abita Springs, LA</td>\n",
       "      <td>43.0</td>\n",
       "      <td>74.0</td>\n",
       "      <td>3.22</td>\n",
       "      <td>1585</td>\n",
       "      <td>88.0</td>\n",
       "      <td>Fruit / Vegetable Beer</td>\n",
       "      <td>4.20%</td>\n",
       "      <td>http://beeradvocate.com/beer/profile/3/7</td>\n",
       "    </tr>\n",
       "    <tr>\n",
       "      <th>4</th>\n",
       "      <td>Allagash Black - Bourbon Barrel Aged</td>\n",
       "      <td>Allagash Brewing Company</td>\n",
       "      <td>Portland, ME</td>\n",
       "      <td>19.0</td>\n",
       "      <td>92.0</td>\n",
       "      <td>4.16</td>\n",
       "      <td>194</td>\n",
       "      <td>NaN</td>\n",
       "      <td>Belgian Strong Dark Ale</td>\n",
       "      <td>9.30%</td>\n",
       "      <td>http://beeradvocate.com/beer/profile/4/48279</td>\n",
       "    </tr>\n",
       "  </tbody>\n",
       "</table>\n",
       "</div>"
      ],
      "text/plain": [
       "                                   Beer                   Brewery  \\\n",
       "0                  Abita Select Mayhawk         Abita Brewing Co.   \n",
       "1                                 Amber         Abita Brewing Co.   \n",
       "2                           Lemon Wheat         Abita Brewing Co.   \n",
       "3                           Purple Haze         Abita Brewing Co.   \n",
       "4  Allagash Black - Bourbon Barrel Aged  Allagash Brewing Company   \n",
       "\n",
       "            Location  Table  Score  rAvg  Ratings  Bro Score  \\\n",
       "0  Abita Springs, LA   43.0    NaN  3.58        3        NaN   \n",
       "1  Abita Springs, LA   43.0   78.0  3.44      880       90.0   \n",
       "2  Abita Springs, LA   43.0   76.0  3.15       18        NaN   \n",
       "3  Abita Springs, LA   43.0   74.0  3.22     1585       88.0   \n",
       "4       Portland, ME   19.0   92.0  4.16      194        NaN   \n",
       "\n",
       "                     Style    ABV  \\\n",
       "0         Belgian Pale Ale  6.50%   \n",
       "1             Vienna Lager  4.50%   \n",
       "2  American Pale Wheat Ale      ?   \n",
       "3   Fruit / Vegetable Beer  4.20%   \n",
       "4  Belgian Strong Dark Ale  9.30%   \n",
       "\n",
       "                                            URL  \n",
       "0  http://beeradvocate.com/beer/profile/3/93248  \n",
       "1      http://beeradvocate.com/beer/profile/3/5  \n",
       "2  http://beeradvocate.com/beer/profile/3/92293  \n",
       "3      http://beeradvocate.com/beer/profile/3/7  \n",
       "4  http://beeradvocate.com/beer/profile/4/48279  "
      ]
     },
     "execution_count": 200,
     "metadata": {},
     "output_type": "execute_result"
    }
   ],
   "source": [
    "# setup\n",
    "from fastai.tabular import *\n",
    "\n",
    "df = pd.read_csv('/notebooks/storage/brewing/acb.csv')\n",
    "df.head()"
   ]
  },
  {
   "cell_type": "code",
   "execution_count": 201,
   "metadata": {},
   "outputs": [
    {
     "data": {
      "text/html": [
       "<div>\n",
       "<style scoped>\n",
       "    .dataframe tbody tr th:only-of-type {\n",
       "        vertical-align: middle;\n",
       "    }\n",
       "\n",
       "    .dataframe tbody tr th {\n",
       "        vertical-align: top;\n",
       "    }\n",
       "\n",
       "    .dataframe thead th {\n",
       "        text-align: right;\n",
       "    }\n",
       "</style>\n",
       "<table border=\"1\" class=\"dataframe\">\n",
       "  <thead>\n",
       "    <tr style=\"text-align: right;\">\n",
       "      <th></th>\n",
       "      <th>Beer</th>\n",
       "      <th>Brewery</th>\n",
       "      <th>Location</th>\n",
       "      <th>rAvg</th>\n",
       "      <th>Ratings</th>\n",
       "      <th>Style</th>\n",
       "      <th>ABV</th>\n",
       "    </tr>\n",
       "  </thead>\n",
       "  <tbody>\n",
       "    <tr>\n",
       "      <th>0</th>\n",
       "      <td>Abita Select Mayhawk</td>\n",
       "      <td>Abita Brewing Co.</td>\n",
       "      <td>Abita Springs, LA</td>\n",
       "      <td>3.58</td>\n",
       "      <td>3</td>\n",
       "      <td>Belgian Pale Ale</td>\n",
       "      <td>6.50%</td>\n",
       "    </tr>\n",
       "    <tr>\n",
       "      <th>1</th>\n",
       "      <td>Amber</td>\n",
       "      <td>Abita Brewing Co.</td>\n",
       "      <td>Abita Springs, LA</td>\n",
       "      <td>3.44</td>\n",
       "      <td>880</td>\n",
       "      <td>Vienna Lager</td>\n",
       "      <td>4.50%</td>\n",
       "    </tr>\n",
       "    <tr>\n",
       "      <th>2</th>\n",
       "      <td>Lemon Wheat</td>\n",
       "      <td>Abita Brewing Co.</td>\n",
       "      <td>Abita Springs, LA</td>\n",
       "      <td>3.15</td>\n",
       "      <td>18</td>\n",
       "      <td>American Pale Wheat Ale</td>\n",
       "      <td>?</td>\n",
       "    </tr>\n",
       "    <tr>\n",
       "      <th>3</th>\n",
       "      <td>Purple Haze</td>\n",
       "      <td>Abita Brewing Co.</td>\n",
       "      <td>Abita Springs, LA</td>\n",
       "      <td>3.22</td>\n",
       "      <td>1585</td>\n",
       "      <td>Fruit / Vegetable Beer</td>\n",
       "      <td>4.20%</td>\n",
       "    </tr>\n",
       "    <tr>\n",
       "      <th>4</th>\n",
       "      <td>Allagash Black - Bourbon Barrel Aged</td>\n",
       "      <td>Allagash Brewing Company</td>\n",
       "      <td>Portland, ME</td>\n",
       "      <td>4.16</td>\n",
       "      <td>194</td>\n",
       "      <td>Belgian Strong Dark Ale</td>\n",
       "      <td>9.30%</td>\n",
       "    </tr>\n",
       "  </tbody>\n",
       "</table>\n",
       "</div>"
      ],
      "text/plain": [
       "                                   Beer                   Brewery  \\\n",
       "0                  Abita Select Mayhawk         Abita Brewing Co.   \n",
       "1                                 Amber         Abita Brewing Co.   \n",
       "2                           Lemon Wheat         Abita Brewing Co.   \n",
       "3                           Purple Haze         Abita Brewing Co.   \n",
       "4  Allagash Black - Bourbon Barrel Aged  Allagash Brewing Company   \n",
       "\n",
       "            Location  rAvg  Ratings                    Style    ABV  \n",
       "0  Abita Springs, LA  3.58        3         Belgian Pale Ale  6.50%  \n",
       "1  Abita Springs, LA  3.44      880             Vienna Lager  4.50%  \n",
       "2  Abita Springs, LA  3.15       18  American Pale Wheat Ale      ?  \n",
       "3  Abita Springs, LA  3.22     1585   Fruit / Vegetable Beer  4.20%  \n",
       "4       Portland, ME  4.16      194  Belgian Strong Dark Ale  9.30%  "
      ]
     },
     "execution_count": 201,
     "metadata": {},
     "output_type": "execute_result"
    }
   ],
   "source": [
    "#let's fix this data\n",
    "df = df.drop(['Table', 'Score', 'Bro Score','URL'], axis=1)\n",
    "df.head()"
   ]
  },
  {
   "cell_type": "code",
   "execution_count": 202,
   "metadata": {},
   "outputs": [
    {
     "data": {
      "text/html": [
       "<div>\n",
       "<style scoped>\n",
       "    .dataframe tbody tr th:only-of-type {\n",
       "        vertical-align: middle;\n",
       "    }\n",
       "\n",
       "    .dataframe tbody tr th {\n",
       "        vertical-align: top;\n",
       "    }\n",
       "\n",
       "    .dataframe thead th {\n",
       "        text-align: right;\n",
       "    }\n",
       "</style>\n",
       "<table border=\"1\" class=\"dataframe\">\n",
       "  <thead>\n",
       "    <tr style=\"text-align: right;\">\n",
       "      <th></th>\n",
       "      <th>Beer</th>\n",
       "      <th>Brewery</th>\n",
       "      <th>Location</th>\n",
       "      <th>rAvg</th>\n",
       "      <th>Ratings</th>\n",
       "      <th>Style</th>\n",
       "      <th>ABV</th>\n",
       "    </tr>\n",
       "  </thead>\n",
       "  <tbody>\n",
       "    <tr>\n",
       "      <th>0</th>\n",
       "      <td>Abita Select Mayhawk</td>\n",
       "      <td>Abita Brewing Co.</td>\n",
       "      <td>Abita Springs, LA</td>\n",
       "      <td>3.58</td>\n",
       "      <td>3</td>\n",
       "      <td>Belgian Pale Ale</td>\n",
       "      <td>6.5</td>\n",
       "    </tr>\n",
       "    <tr>\n",
       "      <th>1</th>\n",
       "      <td>Amber</td>\n",
       "      <td>Abita Brewing Co.</td>\n",
       "      <td>Abita Springs, LA</td>\n",
       "      <td>3.44</td>\n",
       "      <td>880</td>\n",
       "      <td>Vienna Lager</td>\n",
       "      <td>4.5</td>\n",
       "    </tr>\n",
       "    <tr>\n",
       "      <th>2</th>\n",
       "      <td>Lemon Wheat</td>\n",
       "      <td>Abita Brewing Co.</td>\n",
       "      <td>Abita Springs, LA</td>\n",
       "      <td>3.15</td>\n",
       "      <td>18</td>\n",
       "      <td>American Pale Wheat Ale</td>\n",
       "      <td>5.0</td>\n",
       "    </tr>\n",
       "    <tr>\n",
       "      <th>3</th>\n",
       "      <td>Purple Haze</td>\n",
       "      <td>Abita Brewing Co.</td>\n",
       "      <td>Abita Springs, LA</td>\n",
       "      <td>3.22</td>\n",
       "      <td>1585</td>\n",
       "      <td>Fruit / Vegetable Beer</td>\n",
       "      <td>4.2</td>\n",
       "    </tr>\n",
       "    <tr>\n",
       "      <th>4</th>\n",
       "      <td>Allagash Black - Bourbon Barrel Aged</td>\n",
       "      <td>Allagash Brewing Company</td>\n",
       "      <td>Portland, ME</td>\n",
       "      <td>4.16</td>\n",
       "      <td>194</td>\n",
       "      <td>Belgian Strong Dark Ale</td>\n",
       "      <td>9.3</td>\n",
       "    </tr>\n",
       "  </tbody>\n",
       "</table>\n",
       "</div>"
      ],
      "text/plain": [
       "                                   Beer                   Brewery  \\\n",
       "0                  Abita Select Mayhawk         Abita Brewing Co.   \n",
       "1                                 Amber         Abita Brewing Co.   \n",
       "2                           Lemon Wheat         Abita Brewing Co.   \n",
       "3                           Purple Haze         Abita Brewing Co.   \n",
       "4  Allagash Black - Bourbon Barrel Aged  Allagash Brewing Company   \n",
       "\n",
       "            Location  rAvg  Ratings                    Style  ABV  \n",
       "0  Abita Springs, LA  3.58        3         Belgian Pale Ale  6.5  \n",
       "1  Abita Springs, LA  3.44      880             Vienna Lager  4.5  \n",
       "2  Abita Springs, LA  3.15       18  American Pale Wheat Ale  5.0  \n",
       "3  Abita Springs, LA  3.22     1585   Fruit / Vegetable Beer  4.2  \n",
       "4       Portland, ME  4.16      194  Belgian Strong Dark Ale  9.3  "
      ]
     },
     "execution_count": 202,
     "metadata": {},
     "output_type": "execute_result"
    }
   ],
   "source": [
    "#change ABV from string to float\n",
    "df['ABV'] = df['ABV'].str.rstrip('%')\n",
    "df.loc[df['ABV'] == '?', 'ABV'] = '5.00'\n",
    "df['ABV'] = df['ABV'].astype(float)\n",
    "df.head()"
   ]
  },
  {
   "cell_type": "code",
   "execution_count": 203,
   "metadata": {},
   "outputs": [
    {
     "data": {
      "text/plain": [
       "Beer        659\n",
       "Brewery     659\n",
       "Location    659\n",
       "rAvg        659\n",
       "Ratings     659\n",
       "Style       659\n",
       "ABV         659\n",
       "dtype: int64"
      ]
     },
     "execution_count": 203,
     "metadata": {},
     "output_type": "execute_result"
    }
   ],
   "source": [
    "df.count()"
   ]
  },
  {
   "cell_type": "code",
   "execution_count": 204,
   "metadata": {},
   "outputs": [],
   "source": [
    "#more setup\n",
    "dep_var = 'rAvg'\n",
    "cat_names = ['Beer', 'Brewery', 'Location', 'Style']\n",
    "cont_names = ['Ratings','ABV']"
   ]
  },
  {
   "cell_type": "code",
   "execution_count": 205,
   "metadata": {},
   "outputs": [
    {
     "name": "stdout",
     "output_type": "stream",
     "text": [
      "['Ratings', 'ABV']\n"
     ]
    }
   ],
   "source": [
    "#setup databunch\n",
    "procs = [FillMissing, Categorify, Normalize]\n",
    "valid_idx = range(len(df)-200, len(df))\n",
    "\n",
    "data = TabularDataBunch.from_df('/notebooks/storage/brewing/', df, dep_var, valid_idx=valid_idx, procs=procs, cat_names=cat_names,cont_names=cont_names)\n",
    "print(data.train_ds.cont_names)"
   ]
  },
  {
   "cell_type": "code",
   "execution_count": 206,
   "metadata": {},
   "outputs": [],
   "source": [
    "def accuracy_1(input:Tensor, targs:Tensor)->Rank0Tensor:\n",
    "    targs = targs.view(-1).long()\n",
    "    n = targs.shape[0]\n",
    "    input = input.argmax(dim=-1).view(n,-1)\n",
    "    targs = targs.view(n,-1)\n",
    "    return (input==targs).float().mean()"
   ]
  },
  {
   "cell_type": "code",
   "execution_count": null,
   "metadata": {},
   "outputs": [],
   "source": []
  },
  {
   "cell_type": "code",
   "execution_count": 221,
   "metadata": {},
   "outputs": [
    {
     "name": "stdout",
     "output_type": "stream",
     "text": [
      "LR Finder is complete, type {learner_name}.recorder.plot() to see the graph.\n"
     ]
    },
    {
     "data": {
      "text/html": [
       "Total time: 00:11 <p><table style='width:300px; margin-bottom:10px'>\n",
       "  <tr>\n",
       "    <th>epoch</th>\n",
       "    <th>train_loss</th>\n",
       "    <th>valid_loss</th>\n",
       "    <th>mean_squared_error</th>\n",
       "  </tr>\n",
       "  <tr>\n",
       "    <th>1</th>\n",
       "    <th>12.152596</th>\n",
       "    <th>11.789167</th>\n",
       "    <th>11.789167</th>\n",
       "  </tr>\n",
       "  <tr>\n",
       "    <th>2</th>\n",
       "    <th>11.640097</th>\n",
       "    <th>9.821027</th>\n",
       "    <th>9.821027</th>\n",
       "  </tr>\n",
       "  <tr>\n",
       "    <th>3</th>\n",
       "    <th>10.056464</th>\n",
       "    <th>3.442910</th>\n",
       "    <th>3.442910</th>\n",
       "  </tr>\n",
       "  <tr>\n",
       "    <th>4</th>\n",
       "    <th>7.435102</th>\n",
       "    <th>2.657854</th>\n",
       "    <th>2.657854</th>\n",
       "  </tr>\n",
       "  <tr>\n",
       "    <th>5</th>\n",
       "    <th>5.727341</th>\n",
       "    <th>1.482151</th>\n",
       "    <th>1.482151</th>\n",
       "  </tr>\n",
       "  <tr>\n",
       "    <th>6</th>\n",
       "    <th>4.489045</th>\n",
       "    <th>1.397920</th>\n",
       "    <th>1.397920</th>\n",
       "  </tr>\n",
       "  <tr>\n",
       "    <th>7</th>\n",
       "    <th>3.575449</th>\n",
       "    <th>1.399357</th>\n",
       "    <th>1.399357</th>\n",
       "  </tr>\n",
       "  <tr>\n",
       "    <th>8</th>\n",
       "    <th>2.895193</th>\n",
       "    <th>1.367216</th>\n",
       "    <th>1.367216</th>\n",
       "  </tr>\n",
       "  <tr>\n",
       "    <th>9</th>\n",
       "    <th>2.380683</th>\n",
       "    <th>1.364620</th>\n",
       "    <th>1.364620</th>\n",
       "  </tr>\n",
       "  <tr>\n",
       "    <th>10</th>\n",
       "    <th>1.981171</th>\n",
       "    <th>1.415814</th>\n",
       "    <th>1.415814</th>\n",
       "  </tr>\n",
       "  <tr>\n",
       "    <th>11</th>\n",
       "    <th>1.658128</th>\n",
       "    <th>1.424626</th>\n",
       "    <th>1.424626</th>\n",
       "  </tr>\n",
       "  <tr>\n",
       "    <th>12</th>\n",
       "    <th>1.404112</th>\n",
       "    <th>1.435496</th>\n",
       "    <th>1.435496</th>\n",
       "  </tr>\n",
       "</table>\n"
      ],
      "text/plain": [
       "<IPython.core.display.HTML object>"
      ]
     },
     "metadata": {},
     "output_type": "display_data"
    }
   ],
   "source": [
    "#define the model\n",
    "learn = tabular_learner(data, layers=[200,50], emb_szs={'Style': 10,\n",
    "                                                         'Brewery': 5,\n",
    "                                                         'Beer': 2}, metrics=mean_squared_error)\n",
    "learn.lr_find(stop_div=False, num_it=200)\n",
    "learn.fit_one_cycle(12, 2e-2)"
   ]
  },
  {
   "cell_type": "code",
   "execution_count": 222,
   "metadata": {},
   "outputs": [
    {
     "data": {
      "image/png": "[encoded data removed]",
      "text/plain": [
       "<Figure size 432x288 with 1 Axes>"
      ]
     },
     "metadata": {
      "needs_background": "light"
     },
     "output_type": "display_data"
    }
   ],
   "source": [
    "learn.recorder.plot()"
   ]
  },
  {
   "cell_type": "code",
   "execution_count": 223,
   "metadata": {},
   "outputs": [
    {
     "data": {
      "image/png": "[encoded data removed]",
      "text/plain": [
       "<Figure size 432x288 with 1 Axes>"
      ]
     },
     "metadata": {
      "needs_background": "light"
     },
     "output_type": "display_data"
    }
   ],
   "source": [
    "learn.recorder.plot_losses()"
   ]
  },
  {
   "cell_type": "code",
   "execution_count": 224,
   "metadata": {},
   "outputs": [],
   "source": [
    "learn.save('acb-1')"
   ]
  },
  {
   "cell_type": "code",
   "execution_count": 225,
   "metadata": {},
   "outputs": [
    {
     "data": {
      "text/plain": [
       "[tensor([[3.5572],\n",
       "         [3.2805],\n",
       "         [3.4989],\n",
       "         [3.5273],\n",
       "         [3.4171],\n",
       "         [3.7490],\n",
       "         [3.4912],\n",
       "         [3.5741],\n",
       "         [3.6203],\n",
       "         [3.4739],\n",
       "         [3.7938],\n",
       "         [3.4092],\n",
       "         [2.9050],\n",
       "         [3.4636],\n",
       "         [2.5448],\n",
       "         [3.5101],\n",
       "         [3.9894],\n",
       "         [3.4945],\n",
       "         [3.5864],\n",
       "         [2.5341],\n",
       "         [3.2657],\n",
       "         [3.4978],\n",
       "         [3.5354],\n",
       "         [3.6645],\n",
       "         [3.4684],\n",
       "         [4.0732],\n",
       "         [2.7235],\n",
       "         [3.4544],\n",
       "         [3.1389],\n",
       "         [3.6089],\n",
       "         [3.5114],\n",
       "         [4.1400],\n",
       "         [3.6281],\n",
       "         [3.6130],\n",
       "         [3.7523],\n",
       "         [3.7356],\n",
       "         [3.7060],\n",
       "         [3.7957],\n",
       "         [3.3507],\n",
       "         [3.4386],\n",
       "         [3.7494],\n",
       "         [3.7546],\n",
       "         [3.5590],\n",
       "         [3.3719],\n",
       "         [3.3742],\n",
       "         [3.1719],\n",
       "         [3.4663],\n",
       "         [2.7590],\n",
       "         [3.3934],\n",
       "         [3.3204],\n",
       "         [3.7830],\n",
       "         [3.6828],\n",
       "         [3.4099],\n",
       "         [2.6367],\n",
       "         [3.2020],\n",
       "         [3.8786],\n",
       "         [3.3414],\n",
       "         [3.0762],\n",
       "         [3.7024],\n",
       "         [3.0451],\n",
       "         [2.9486],\n",
       "         [3.3992],\n",
       "         [2.9700],\n",
       "         [3.9279],\n",
       "         [3.7085],\n",
       "         [3.7469],\n",
       "         [3.3672],\n",
       "         [3.3792],\n",
       "         [2.9091],\n",
       "         [3.3124],\n",
       "         [3.8392],\n",
       "         [3.6362],\n",
       "         [3.2946],\n",
       "         [3.5051],\n",
       "         [3.5210],\n",
       "         [3.8105],\n",
       "         [3.3214],\n",
       "         [3.1112],\n",
       "         [2.9807],\n",
       "         [3.2847],\n",
       "         [2.4980],\n",
       "         [3.3220],\n",
       "         [3.5736],\n",
       "         [3.0215],\n",
       "         [3.3479],\n",
       "         [3.6549],\n",
       "         [3.6663],\n",
       "         [3.6178],\n",
       "         [2.9008],\n",
       "         [3.0830],\n",
       "         [2.8631],\n",
       "         [3.3782],\n",
       "         [3.2072],\n",
       "         [3.2339],\n",
       "         [2.9274],\n",
       "         [2.7675],\n",
       "         [2.7899],\n",
       "         [3.3513],\n",
       "         [2.9389],\n",
       "         [3.2912],\n",
       "         [3.5557],\n",
       "         [3.0111],\n",
       "         [2.4403],\n",
       "         [3.1737],\n",
       "         [3.2366],\n",
       "         [3.0254],\n",
       "         [2.4795],\n",
       "         [4.0556],\n",
       "         [2.7479],\n",
       "         [3.1698],\n",
       "         [3.3527],\n",
       "         [2.4913],\n",
       "         [3.4224],\n",
       "         [3.3037],\n",
       "         [3.1402],\n",
       "         [3.2755],\n",
       "         [2.4041],\n",
       "         [3.3699],\n",
       "         [2.3861],\n",
       "         [2.8995],\n",
       "         [3.0732],\n",
       "         [3.7732],\n",
       "         [3.2741],\n",
       "         [3.1940],\n",
       "         [3.3991],\n",
       "         [3.3243],\n",
       "         [3.4278],\n",
       "         [3.4218],\n",
       "         [3.8860],\n",
       "         [3.7583],\n",
       "         [3.8610],\n",
       "         [3.4232],\n",
       "         [2.9393],\n",
       "         [3.2686],\n",
       "         [3.3455],\n",
       "         [2.9174],\n",
       "         [3.7281],\n",
       "         [3.5754],\n",
       "         [2.3264],\n",
       "         [2.1435],\n",
       "         [3.2370],\n",
       "         [3.3140],\n",
       "         [4.0139],\n",
       "         [3.7475],\n",
       "         [3.9252],\n",
       "         [3.3611],\n",
       "         [3.7994],\n",
       "         [2.9346],\n",
       "         [3.7404],\n",
       "         [3.4619],\n",
       "         [3.5392],\n",
       "         [3.3672],\n",
       "         [3.2487],\n",
       "         [3.7594],\n",
       "         [2.9224],\n",
       "         [2.3676],\n",
       "         [2.9932],\n",
       "         [3.4425],\n",
       "         [2.4109],\n",
       "         [3.7024],\n",
       "         [3.0451],\n",
       "         [2.9486],\n",
       "         [3.3992],\n",
       "         [2.4507],\n",
       "         [1.7141],\n",
       "         [2.4822],\n",
       "         [1.0483],\n",
       "         [1.7167],\n",
       "         [2.0024],\n",
       "         [2.5717],\n",
       "         [2.6620],\n",
       "         [2.3548],\n",
       "         [3.1926],\n",
       "         [2.9045],\n",
       "         [3.8559],\n",
       "         [4.0638],\n",
       "         [3.9821],\n",
       "         [3.6330],\n",
       "         [3.9994],\n",
       "         [3.1717],\n",
       "         [3.7537],\n",
       "         [2.4830],\n",
       "         [3.7762],\n",
       "         [3.0484],\n",
       "         [2.4217],\n",
       "         [2.9322],\n",
       "         [3.2572],\n",
       "         [3.2101],\n",
       "         [3.1848],\n",
       "         [3.1404],\n",
       "         [3.8061],\n",
       "         [2.9666],\n",
       "         [2.8737],\n",
       "         [3.0962],\n",
       "         [3.3215],\n",
       "         [3.2056],\n",
       "         [3.3401],\n",
       "         [2.6527],\n",
       "         [3.3112],\n",
       "         [2.3612]]),\n",
       " tensor([3.7600, 3.7000, 3.6500, 0.0000, 0.0000, 0.0000, 3.8400, 3.7500, 4.0000,\n",
       "         3.3400, 0.0000, 3.4500, 4.0000, 3.4400, 3.6300, 3.7300, 4.0800, 3.8100,\n",
       "         3.7800, 3.7100, 3.2900, 3.3300, 3.4200, 3.9200, 3.0400, 4.0600, 0.0000,\n",
       "         3.7100, 3.6600, 3.8000, 3.9600, 4.1900, 4.0800, 4.0700, 3.6800, 4.1700,\n",
       "         3.9400, 4.0600, 0.0000, 4.5000, 3.8800, 4.1300, 4.1600, 3.7900, 3.8500,\n",
       "         4.0300, 3.9000, 3.7800, 3.9500, 3.9400, 4.0100, 3.9700, 3.5200, 3.8600,\n",
       "         3.8300, 4.1400, 3.7500, 3.8400, 3.8400, 3.5800, 3.6200, 3.2700, 4.2600,\n",
       "         4.3700, 3.9000, 4.0200, 4.1800, 3.9900, 3.7900, 3.9900, 4.0900, 3.8000,\n",
       "         4.4400, 3.9000, 3.8300, 3.9500, 3.8900, 3.7000, 3.8200, 3.4600, 3.3500,\n",
       "         4.1600, 3.7000, 3.8000, 3.9600, 4.0800, 4.0900, 3.6500, 3.3900, 3.4100,\n",
       "         0.0000, 3.8600, 3.4400, 0.0000, 4.0800, 0.0000, 0.0000, 0.0000, 2.9300,\n",
       "         4.5000, 3.9600, 3.9800, 3.5900, 3.3900, 3.1600, 3.5300, 3.9600, 4.2400,\n",
       "         3.9900, 3.1200, 3.8400, 3.5800, 3.7400, 3.8600, 3.2500, 0.0000, 4.0800,\n",
       "         0.0000, 4.5000, 3.8800, 4.4700, 4.2200, 4.3200, 0.0000, 4.2200, 4.0000,\n",
       "         3.7700, 4.2500, 3.9300, 4.0400, 4.1600, 3.7800, 3.8900, 3.7400, 3.5200,\n",
       "         0.0000, 4.1000, 3.5600, 0.0000, 3.5700, 3.8600, 3.9000, 3.9400, 3.7400,\n",
       "         3.9800, 3.5300, 4.1100, 3.9400, 4.0800, 4.1100, 3.8100, 3.5800, 3.3900,\n",
       "         4.0600, 3.7000, 3.3400, 0.0000, 3.8200, 3.7100, 3.8400, 3.5800, 3.6200,\n",
       "         3.2700, 4.0000, 3.8300, 4.0800, 0.0000, 3.5600, 3.5000, 0.0000, 2.5600,\n",
       "         4.1300, 0.0000, 0.0000, 3.9200, 3.6700, 4.1000, 3.5200, 3.8500, 3.5300,\n",
       "         3.7500, 3.5000, 3.8700, 3.7600, 3.6900, 3.5700, 3.6000, 3.8400, 3.3900,\n",
       "         3.5200, 3.8100, 3.1400, 3.5100, 3.2800, 3.3300, 3.5900, 4.2700, 3.6600,\n",
       "         4.0200, 4.1100])]"
      ]
     },
     "execution_count": 225,
     "metadata": {},
     "output_type": "execute_result"
    }
   ],
   "source": [
    "learn.get_preds()"
   ]
  },
  {
   "cell_type": "code",
   "execution_count": 234,
   "metadata": {},
   "outputs": [
    {
     "data": {
      "text/plain": [
       "Beer        Smuttynose IPA \"Finest Kind\"\n",
       "Brewery       Smuttynose Brewing Company\n",
       "Location                  Portsmouth, NH\n",
       "rAvg                                4.13\n",
       "Ratings                             2734\n",
       "Style                       American IPA\n",
       "ABV                                  6.9\n",
       "Name: 500, dtype: object"
      ]
     },
     "execution_count": 234,
     "metadata": {},
     "output_type": "execute_result"
    }
   ],
   "source": [
    "df.iloc[500]"
   ]
  },
  {
   "cell_type": "code",
   "execution_count": 235,
   "metadata": {},
   "outputs": [
    {
     "data": {
      "text/plain": [
       "(FloatItem [3.754566], tensor([3.7546]), tensor([3.7546]))"
      ]
     },
     "execution_count": 235,
     "metadata": {},
     "output_type": "execute_result"
    }
   ],
   "source": [
    "learn.predict(df.iloc[500])"
   ]
  },
  {
   "cell_type": "code",
   "execution_count": null,
   "metadata": {},
   "outputs": [],
   "source": []
  },
  {
   "cell_type": "code",
   "execution_count": 271,
   "metadata": {},
   "outputs": [
    {
     "name": "stdout",
     "output_type": "stream",
     "text": [
      "LR Finder is complete, type {learner_name}.recorder.plot() to see the graph.\n"
     ]
    },
    {
     "data": {
      "text/html": [
       "Total time: 00:16 <p><table style='width:300px; margin-bottom:10px'>\n",
       "  <tr>\n",
       "    <th>epoch</th>\n",
       "    <th>train_loss</th>\n",
       "    <th>valid_loss</th>\n",
       "    <th>mean_squared_error</th>\n",
       "  </tr>\n",
       "  <tr>\n",
       "    <th>1</th>\n",
       "    <th>13.253882</th>\n",
       "    <th>13.033635</th>\n",
       "    <th>13.033635</th>\n",
       "  </tr>\n",
       "  <tr>\n",
       "    <th>2</th>\n",
       "    <th>13.061928</th>\n",
       "    <th>12.732584</th>\n",
       "    <th>12.732584</th>\n",
       "  </tr>\n",
       "  <tr>\n",
       "    <th>3</th>\n",
       "    <th>12.826440</th>\n",
       "    <th>12.038849</th>\n",
       "    <th>12.038849</th>\n",
       "  </tr>\n",
       "  <tr>\n",
       "    <th>4</th>\n",
       "    <th>12.339852</th>\n",
       "    <th>10.498701</th>\n",
       "    <th>10.498701</th>\n",
       "  </tr>\n",
       "  <tr>\n",
       "    <th>5</th>\n",
       "    <th>11.488468</th>\n",
       "    <th>7.779749</th>\n",
       "    <th>7.779749</th>\n",
       "  </tr>\n",
       "  <tr>\n",
       "    <th>6</th>\n",
       "    <th>10.121755</th>\n",
       "    <th>4.090952</th>\n",
       "    <th>4.090952</th>\n",
       "  </tr>\n",
       "  <tr>\n",
       "    <th>7</th>\n",
       "    <th>8.407056</th>\n",
       "    <th>1.759897</th>\n",
       "    <th>1.759897</th>\n",
       "  </tr>\n",
       "  <tr>\n",
       "    <th>8</th>\n",
       "    <th>6.824443</th>\n",
       "    <th>1.392270</th>\n",
       "    <th>1.392270</th>\n",
       "  </tr>\n",
       "  <tr>\n",
       "    <th>9</th>\n",
       "    <th>5.602048</th>\n",
       "    <th>1.461479</th>\n",
       "    <th>1.461479</th>\n",
       "  </tr>\n",
       "  <tr>\n",
       "    <th>10</th>\n",
       "    <th>4.651642</th>\n",
       "    <th>1.414530</th>\n",
       "    <th>1.414530</th>\n",
       "  </tr>\n",
       "  <tr>\n",
       "    <th>11</th>\n",
       "    <th>3.891793</th>\n",
       "    <th>1.440207</th>\n",
       "    <th>1.440207</th>\n",
       "  </tr>\n",
       "  <tr>\n",
       "    <th>12</th>\n",
       "    <th>3.274495</th>\n",
       "    <th>1.342162</th>\n",
       "    <th>1.342162</th>\n",
       "  </tr>\n",
       "  <tr>\n",
       "    <th>13</th>\n",
       "    <th>2.766001</th>\n",
       "    <th>1.402582</th>\n",
       "    <th>1.402582</th>\n",
       "  </tr>\n",
       "  <tr>\n",
       "    <th>14</th>\n",
       "    <th>2.348321</th>\n",
       "    <th>1.388451</th>\n",
       "    <th>1.388451</th>\n",
       "  </tr>\n",
       "  <tr>\n",
       "    <th>15</th>\n",
       "    <th>2.002091</th>\n",
       "    <th>1.399503</th>\n",
       "    <th>1.399503</th>\n",
       "  </tr>\n",
       "  <tr>\n",
       "    <th>16</th>\n",
       "    <th>1.710684</th>\n",
       "    <th>1.419913</th>\n",
       "    <th>1.419913</th>\n",
       "  </tr>\n",
       "  <tr>\n",
       "    <th>17</th>\n",
       "    <th>1.467735</th>\n",
       "    <th>1.430172</th>\n",
       "    <th>1.430172</th>\n",
       "  </tr>\n",
       "  <tr>\n",
       "    <th>18</th>\n",
       "    <th>1.263049</th>\n",
       "    <th>1.443080</th>\n",
       "    <th>1.443080</th>\n",
       "  </tr>\n",
       "</table>\n"
      ],
      "text/plain": [
       "<IPython.core.display.HTML object>"
      ]
     },
     "metadata": {},
     "output_type": "display_data"
    }
   ],
   "source": [
    "#define the model\n",
    "learn2 = tabular_learner(data, layers=[500], emb_szs={'Style': 30,\n",
    "                                                         'Brewery': 10,\n",
    "                                                         'Beer': 3}, metrics=mean_squared_error)\n",
    "learn2.lr_find(stop_div=False, num_it=200)\n",
    "learn2.fit_one_cycle(18, 2.25e-3)\n"
   ]
  },
  {
   "cell_type": "code",
   "execution_count": 272,
   "metadata": {},
   "outputs": [
    {
     "data": {
      "image/png": "[encoded data removed]",
      "text/plain": [
       "<Figure size 432x288 with 1 Axes>"
      ]
     },
     "metadata": {
      "needs_background": "light"
     },
     "output_type": "display_data"
    }
   ],
   "source": [
    "#plots\n",
    "learn2.recorder.plot()"
   ]
  },
  {
   "cell_type": "code",
   "execution_count": 273,
   "metadata": {},
   "outputs": [
    {
     "data": {
      "image/png": "[encoded data removed]",
      "text/plain": [
       "<Figure size 432x288 with 1 Axes>"
      ]
     },
     "metadata": {
      "needs_background": "light"
     },
     "output_type": "display_data"
    }
   ],
   "source": [
    "#plots\n",
    "learn2.recorder.plot_losses()"
   ]
  },
  {
   "cell_type": "code",
   "execution_count": 274,
   "metadata": {},
   "outputs": [
    {
     "data": {
      "text/plain": [
       "Beer        Smuttynose IPA \"Finest Kind\"\n",
       "Brewery       Smuttynose Brewing Company\n",
       "Location                  Portsmouth, NH\n",
       "rAvg                                4.13\n",
       "Ratings                             2734\n",
       "Style                       American IPA\n",
       "ABV                                  6.9\n",
       "Name: 500, dtype: object"
      ]
     },
     "execution_count": 274,
     "metadata": {},
     "output_type": "execute_result"
    }
   ],
   "source": [
    "df.iloc[500]"
   ]
  },
  {
   "cell_type": "code",
   "execution_count": 275,
   "metadata": {},
   "outputs": [
    {
     "data": {
      "text/plain": [
       "(FloatItem [3.851922], tensor([3.8519]), tensor([3.8519]))"
      ]
     },
     "execution_count": 275,
     "metadata": {},
     "output_type": "execute_result"
    }
   ],
   "source": [
    "learn2.predict(df.iloc[500])"
   ]
  },
  {
   "cell_type": "code",
   "execution_count": null,
   "metadata": {},
   "outputs": [],
   "source": []
  }
 ],
 "metadata": {
  "kernelspec": {
   "display_name": "Python 3",
   "language": "python",
   "name": "python3"
  },
  "language_info": {
   "codemirror_mode": {
    "name": "ipython",
    "version": 3
   },
   "file_extension": ".py",
   "mimetype": "text/x-python",
   "name": "python",
   "nbconvert_exporter": "python",
   "pygments_lexer": "ipython3",
   "version": "3.6.7"
  }
 },
 "nbformat": 4,
 "nbformat_minor": 2
}
